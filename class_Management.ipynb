{
  "nbformat": 4,
  "nbformat_minor": 0,
  "metadata": {
    "colab": {
      "provenance": [],
      "authorship_tag": "ABX9TyNuDkOeT32zFI55BEdyc85V",
      "include_colab_link": true
    },
    "kernelspec": {
      "name": "python3",
      "display_name": "Python 3"
    },
    "language_info": {
      "name": "python"
    }
  },
  "cells": [
    {
      "cell_type": "markdown",
      "metadata": {
        "id": "view-in-github",
        "colab_type": "text"
      },
      "source": [
        "<a href=\"https://colab.research.google.com/github/Gurnoor-Gill/Trial/blob/Class-Managemment/class_Management.ipynb\" target=\"_parent\"><img src=\"https://colab.research.google.com/assets/colab-badge.svg\" alt=\"Open In Colab\"/></a>"
      ]
    },
    {
      "cell_type": "code",
      "execution_count": null,
      "metadata": {
        "id": "P6_V4tJ5fhKn"
      },
      "outputs": [],
      "source": [
        "class Management:\n",
        "  def __init__(self):\n",
        "    self.doctor_manager = DoctorManager()\n",
        "    self.patient_manager = PatientManager()\n",
        "\n",
        "  def display_menu(self):\n",
        "    while True:\n",
        "      options= input('\\nWelcome to Alberta Hospital (AH) MAnager Systems\\n1 - Doctors\\n2 - Patients\\n3 - Exit Program\\n>>>')\n",
        "      if options  == '1':\n",
        "        self.doctors_menu()\n",
        "      elif options == '2':\n",
        "        self.patients_menu()\n",
        "      elif options == '3':\n",
        "        print('Thanks for using the program. Bye!')\n",
        "      else:\n",
        "        print('Invalid choice. Please try again.')\n",
        "\n",
        "  def doctors_menu(self):\n",
        "    while True:\n",
        "      options= input('\\nDoctors Menu:\\n1 - Display Doctors list\\n2 - Search for doctor by ID\\n3 - Search for doctor by name\\n4 - Add doctor\\n5 - Edit doctor info\\n6 - Back to the main menu\\n>>>')\n",
        "      if options == '1':\n",
        "        self.doctor_manager.display_doctors_list()\n",
        "      elif options == '2':\n",
        "        doctor_id = input('Enter doctor ID: ')\n",
        "        self.doctor_manager.search_doctor_by_id(doctor_id)\n",
        "      elif options == '3':\n",
        "        doctor_name = input('Enter doctor name: ')\n",
        "        self.doctor_manager.search_doctor_by_name(doctor_name)\n",
        "      elif options == '4':\n",
        "        self.doctor_manager.add_dr_to_file()\n",
        "      elif options == '5':\n",
        "        doctor_id = input('Enter doctor ID you want to edit: ')\n",
        "        self.doctor_manager.edit_doctor_info()\n",
        "      elif options == '6':\n",
        "        break\n",
        "      else:\n",
        "        print('Invalid choice. Please try again.')\n",
        "\n",
        "  def patients_menu(self):\n",
        "    while True:\n",
        "      options= input('\\nPatients Menu:\\n1 - Display Patients list\\n2 - Search for patient by ID\\n3 - Add patient\\n4 - Edit patient info\\n5 - Back to the main menu\\n>>>')\n",
        "      if options == '1':\n",
        "        self.patient_manager.display_patients_list()\n",
        "      elif options == '2':\n",
        "        patient_id = input('Enter patient ID: ')\n",
        "        self.patient_manager.search_patient_by_id(patient_id)\n",
        "      elif options == '3':\n",
        "        self.patient_manager.add_patient_to_file()\n",
        "      elif options == '4':\n",
        "        patient_id = input('Enter patient ID you want to edit: ')\n",
        "        self.patient_manager.edit_patient_info_by_id()\n",
        "      elif options == '5':\n",
        "        break\n",
        "      else:\n",
        "        print('Invalid choice. Please try again.')\n",
        "\n",
        "if __name__ == '__main__':\n",
        "  management = Management()\n",
        "  management.display_menu()\n"
      ]
    },
    {
      "cell_type": "markdown",
      "source": [],
      "metadata": {
        "id": "e1aM1eotIEuK"
      }
    }
  ]
}